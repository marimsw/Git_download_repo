{
  "nbformat": 4,
  "nbformat_minor": 0,
  "metadata": {
    "colab": {
      "provenance": [],
      "mount_file_id": "1cnNAfnQuqnoU7WSiircwxDY86-9OOFB2",
      "authorship_tag": "ABX9TyOf1H3xt143b5TtZGrjO+Dw",
      "include_colab_link": true
    },
    "kernelspec": {
      "name": "python3",
      "display_name": "Python 3"
    },
    "language_info": {
      "name": "python"
    }
  },
  "cells": [
    {
      "cell_type": "markdown",
      "metadata": {
        "id": "view-in-github",
        "colab_type": "text"
      },
      "source": [
        "<a href=\"https://colab.research.google.com/github/marimsw/Git_download_repo/blob/main/download_git_repo.ipynb\" target=\"_parent\"><img src=\"https://colab.research.google.com/assets/colab-badge.svg\" alt=\"Open In Colab\"/></a>"
      ]
    },
    {
      "cell_type": "code",
      "execution_count": 1,
      "metadata": {
        "colab": {
          "base_uri": "https://localhost:8080/"
        },
        "id": "r6SLpYnFZX_7",
        "outputId": "f63948c3-9f6d-4954-c1a5-4a6929c2cf66"
      },
      "outputs": [
        {
          "output_type": "stream",
          "name": "stdout",
          "text": [
            "Collecting GitPython\n",
            "  Downloading GitPython-3.1.43-py3-none-any.whl.metadata (13 kB)\n",
            "Collecting gitdb<5,>=4.0.1 (from GitPython)\n",
            "  Downloading gitdb-4.0.11-py3-none-any.whl.metadata (1.2 kB)\n",
            "Collecting smmap<6,>=3.0.1 (from gitdb<5,>=4.0.1->GitPython)\n",
            "  Downloading smmap-5.0.1-py3-none-any.whl.metadata (4.3 kB)\n",
            "Downloading GitPython-3.1.43-py3-none-any.whl (207 kB)\n",
            "\u001b[2K   \u001b[90m━━━━━━━━━━━━━━━━━━━━━━━━━━━━━━━━━━━━━━━━\u001b[0m \u001b[32m207.3/207.3 kB\u001b[0m \u001b[31m5.1 MB/s\u001b[0m eta \u001b[36m0:00:00\u001b[0m\n",
            "\u001b[?25hDownloading gitdb-4.0.11-py3-none-any.whl (62 kB)\n",
            "\u001b[2K   \u001b[90m━━━━━━━━━━━━━━━━━━━━━━━━━━━━━━━━━━━━━━━━\u001b[0m \u001b[32m62.7/62.7 kB\u001b[0m \u001b[31m3.5 MB/s\u001b[0m eta \u001b[36m0:00:00\u001b[0m\n",
            "\u001b[?25hDownloading smmap-5.0.1-py3-none-any.whl (24 kB)\n",
            "Installing collected packages: smmap, gitdb, GitPython\n",
            "Successfully installed GitPython-3.1.43 gitdb-4.0.11 smmap-5.0.1\n"
          ]
        }
      ],
      "source": [
        "!pip install GitPython"
      ]
    },
    {
      "cell_type": "markdown",
      "source": [
        "### Скачать репозиторий Git на локальную машину(или в Google Disk)"
      ],
      "metadata": {
        "id": "VKPfibovjQl8"
      }
    },
    {
      "cell_type": "markdown",
      "source": [
        "Объяснение\n",
        "\n",
        "Этот код скачивает Git репозиторий на локальную машину, используя указанный путь к репозиторию и точку сохранения.\n",
        "\n",
        "Функция download_git_repo\n",
        "\n",
        "Эта функция принимает четыре параметра:\n",
        "\n",
        "+ repo_path: путь к Git репозиторию\n",
        "+ save_path: точка сохранения репозитория\n",
        "+ username: имя пользователя для аутентификации\n",
        "+ password: пароль для аутентификации\n",
        "Функция выполняет следующие действия:\n",
        "\n",
        "Проверяет, существует ли точка сохранения. Если нет, создает ее.\n",
        "Клонирует репозиторий в указанную точку сохранения, используя указанный путь к репозиторию и аутентификацию.\n",
        "Выводит сообщение об успешном скачивании репозитория.    \n",
        "Обработка ошибок\n",
        "\n",
        "Функция обрабатывает две типы ошибок:\n",
        "\n",
        "git.exc.GitCommandError: ошибка Git, которая возникает при выполнении команды Git.\n",
        "Exception: любая другая ошибка, которая может возникнуть во время выполнения функции.\n",
        "Ввод параметров\n",
        "\n",
        "Код запрашивает у пользователя четыре параметра:\n",
        "\n",
        "+ путь к Git репозиторию\n",
        "+ точку сохранения репозитория\n",
        "+ имя пользователя для аутентификации\n",
        "+ пароль для аутентификации\n",
        "Вызов функции\n",
        "\n",
        "Код вызывает функцию download_git_repo с введенными параметрами."
      ],
      "metadata": {
        "id": "rUSdsBx_kYbe"
      }
    },
    {
      "cell_type": "code",
      "source": [
        "import git\n",
        "import os\n",
        "import getpass\n",
        "\n",
        "def download_git_repo(repo_path, save_path, username, password):\n",
        "    try:\n",
        "        # Проверяем, существует ли точка сохранения\n",
        "        if not os.path.exists(save_path):\n",
        "            os.makedirs(save_path)\n",
        "\n",
        "        # Клонируем репозиторий в указанную точку сохранения\n",
        "        repo_url = f\"https://{username}:{password}@{repo_path}\"\n",
        "        repo_url = repo_url.replace(\"https://https://\", \"https://\")\n",
        "        repo_url = repo_url.replace(\"https://\", \"\")\n",
        "        repo_url = f\"https://{repo_url}\"\n",
        "        repo = git.Repo.clone_from(repo_url, save_path)\n",
        "\n",
        "        print(\"Репозиторий успешно скачан\")\n",
        "\n",
        "    except git.exc.GitCommandError as e:\n",
        "        print(f\"Ошибка Git: {e}\")\n",
        "\n",
        "    except Exception as e:\n",
        "        print(f\"Ошибка: {e}\")\n",
        "\n",
        "# Параметры\n",
        "repo_path = input(\"Введите путь к Git репозиторию: \")\n",
        "save_path = input(\"Введите путь к точке сохранения: \")\n",
        "username = input(\"Введите имя пользователя: \")\n",
        "password = getpass.getpass(\"Введите пароль: \")\n",
        "\n",
        "# Скачиваем репозиторий\n",
        "download_git_repo(repo_path, save_path, username, password)\n"
      ],
      "metadata": {
        "colab": {
          "base_uri": "https://localhost:8080/"
        },
        "id": "JK1Z-FQEiSXW",
        "outputId": "4e6547a5-fb05-429a-915b-6b9f1e29068e"
      },
      "execution_count": 7,
      "outputs": [
        {
          "output_type": "stream",
          "name": "stdout",
          "text": [
            "Введите путь к Git репозиторию: https://git.imbalanced.tech/mcdis/ads-mod/demo\n",
            "Введите путь к точке сохранения: /content/drive/MyDrive/Rabota/Задачи от 24_09_2024/от Андрея от 03_10_2024/1.1 обновить git пакет с нашего сервера с обработкой всех возможных ошибок/Git_repositorii\n",
            "Введите имя пользователя: mswit9\n",
            "Введите пароль: ··········\n",
            "Репозиторий успешно скачан\n"
          ]
        }
      ]
    },
    {
      "cell_type": "markdown",
      "source": [
        "### Путь к файла ключу"
      ],
      "metadata": {
        "id": "v99RWCklwTlq"
      }
    },
    {
      "cell_type": "markdown",
      "source": [
        "Изменения в коде:\n",
        "+ Добавлен параметр key_path в функцию download_git_repo.\n",
        "+ Если key_path указан, используется SSH для клонирования репозитория, и устанавливается переменная окружения GIT_SSH_COMMAND для указания пути к ключу.\n",
        "+ Убрано требование к паролю, если используется SSH (username может быть пустым).\n",
        "+ Теперь можете использовать как HTTPS, так и SSH для клонирования репозитория, в зависимости от ваших предпочтений."
      ],
      "metadata": {
        "id": "tkKjVYyny1Q7"
      }
    },
    {
      "cell_type": "code",
      "source": [
        "import git\n",
        "import os\n",
        "import getpass\n",
        "\n",
        "def download_git_repo(repo_path, save_path, username=None, password=None, key_path=None):\n",
        "    try:\n",
        "        # Проверяем, существует ли точка сохранения\n",
        "        if not os.path.exists(save_path):\n",
        "            os.makedirs(save_path)\n",
        "\n",
        "        # Если указан путь к ключу, используем его\n",
        "        if key_path:\n",
        "            # Устанавливаем переменную окружения для SSH-ключа\n",
        "            os.environ['GIT_SSH_COMMAND'] = f'ssh -i {key_path}'\n",
        "            repo_url = repo_path  # Используем SSH URL\n",
        "        else:\n",
        "            # Клонируем репозиторий с использованием HTTPS\n",
        "            repo_url = f\"https://{username}:{password}@{repo_path}\"\n",
        "            repo_url = repo_url.replace(\"https://https://\", \"https://\")\n",
        "            repo_url = repo_url.replace(\"https://\", \"\")\n",
        "            repo_url = f\"https://{repo_url}\"\n",
        "\n",
        "        # Клонируем репозиторий в указанную точку сохранения\n",
        "        repo = git.Repo.clone_from(repo_url, save_path)\n",
        "\n",
        "        print(\"Репозиторий успешно скачан\")\n",
        "\n",
        "    except git.exc.GitCommandError as e:\n",
        "        print(f\"Ошибка Git: {e}\")\n",
        "\n",
        "    except Exception as e:\n",
        "        print(f\"Ошибка: {e}\")\n",
        "\n",
        "# Параметры\n",
        "repo_path = input(\"Введите путь к Git репозиторию: \")\n",
        "save_path = input(\"Введите путь к точке сохранения: \")\n",
        "username = input(\"Введите имя пользователя (оставьте пустым для SSH): \")\n",
        "password = None\n",
        "if username:  # Запрашиваем пароль только если указан username\n",
        "    password = getpass.getpass(\"Введите пароль: \")\n",
        "key_path = input(\"Введите путь к файлу ключа (оставьте пустым, если не используете): \")\n",
        "\n",
        "# Скачиваем репозиторий\n",
        "download_git_repo(repo_path, save_path, username, password, key_path)\n"
      ],
      "metadata": {
        "colab": {
          "base_uri": "https://localhost:8080/"
        },
        "id": "GuUn8Vpxw0vx",
        "outputId": "85ae189b-004e-469c-d782-0e68e3dbe86b"
      },
      "execution_count": 8,
      "outputs": [
        {
          "output_type": "stream",
          "name": "stdout",
          "text": [
            "Введите путь к Git репозиторию: https://git.imbalanced.tech/mcdis/ads-mod/proj\n",
            "Введите путь к точке сохранения: /content/drive/MyDrive/Rabota/Задачи от 24_09_2024/от Андрея от 03_10_2024/1.1 обновить git пакет с нашего сервера с обработкой всех возможных ошибок/Git_repo_key\n",
            "Введите имя пользователя (оставьте пустым для SSH): mswit9\n",
            "Введите пароль: ··········\n",
            "Введите путь к файлу ключа (оставьте пустым, если не используете): \n",
            "Репозиторий успешно скачан\n"
          ]
        }
      ]
    },
    {
      "cell_type": "markdown",
      "source": [
        "Импорт библиотек:\n",
        "+ git: библиотека для работы с Git в Python.\n",
        "+ os: библиотека для взаимодействия с операционной системой (например, для работы с файловой системой).\n",
        "+ getpass: библиотека для безопасного ввода паролей (без отображения на экране)."
      ],
      "metadata": {
        "id": "52UCKJ4_zQfD"
      }
    },
    {
      "cell_type": "markdown",
      "source": [
        "Функция download_git_repo:    \n",
        "Эта функция принимает следующие параметры:\n",
        "+ repo_path: путь к Git-репозиторию (может быть HTTPS или SSH).\n",
        "+ save_path: путь, куда будет сохранен клонированный репозиторий.\n",
        "+ username: имя пользователя для аутентификации (если используется HTTPS).\n",
        "+ password: пароль для аутентификации (если используется HTTPS).\n",
        "+ key_path: путь к SSH-ключу (если используется SSH)."
      ],
      "metadata": {
        "id": "nueVM8GXzYSZ"
      }
    },
    {
      "cell_type": "markdown",
      "source": [
        "Проверка существования директории:    \n",
        "Если директория для сохранения не существует, она создается."
      ],
      "metadata": {
        "id": "JkZgkzs2ztci"
      }
    },
    {
      "cell_type": "markdown",
      "source": [
        "Клонирование репозитория:\n",
        "+ Если указан key_path, используется SSH:    \n",
        "os.environ['GIT_SSH_COMMAND'] = f'ssh -i {key_path}'    \n",
        "repo_url = repo_path  # Используем SSH URL    \n",
        "Здесь устанавливается переменная окружения GIT_SSH_COMMAND, которая указывает Git использовать указанный SSH-ключ для аутентификации."
      ],
      "metadata": {
        "id": "Qt16Mk27zxPd"
      }
    },
    {
      "cell_type": "markdown",
      "source": [
        "Если key_path не указан, используется HTTPS    \n",
        "Формируется URL для доступа к репозиторию с использованием имени пользователя и пароля."
      ],
      "metadata": {
        "id": "APayQ5iA0AVe"
      }
    },
    {
      "cell_type": "markdown",
      "source": [
        "Клонирование репозитория:    \n",
        "repo = git.Repo.clone_from(repo_url, save_path)    \n",
        "Используется метод clone_from для клонирования репозитория по указанному URL в заданную директорию.\n"
      ],
      "metadata": {
        "id": "IxC7ZHj30DiY"
      }
    },
    {
      "cell_type": "markdown",
      "source": [
        "Обработка ошибок:    \n",
        "(код ниже не запускать, он запущен выше)"
      ],
      "metadata": {
        "id": "uxRxE2vL0JK8"
      }
    },
    {
      "cell_type": "code",
      "source": [
        "except git.exc.GitCommandError as e:\n",
        "    print(f\"Ошибка Git: {e}\")\n",
        "except Exception as e:\n",
        "    print(f\"Ошибка: {e}\")"
      ],
      "metadata": {
        "id": "NXMvX63V0VM6"
      },
      "execution_count": null,
      "outputs": []
    },
    {
      "cell_type": "markdown",
      "source": [
        "Обрабатываются ошибки, которые могут возникнуть при выполнении команд Git или других исключений."
      ],
      "metadata": {
        "id": "-4dBc-iJ0Uav"
      }
    },
    {
      "cell_type": "markdown",
      "source": [
        "Ввод параметров:    \n",
        "В конце скрипта запрашиваются параметры у пользователя, такие как путь к репозиторию, путь для сохранения, имя пользователя, пароль и путь к ключу."
      ],
      "metadata": {
        "id": "znu5y5Z50eZa"
      }
    }
  ]
}